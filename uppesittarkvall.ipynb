{
 "cells": [
  {
   "cell_type": "markdown",
   "metadata": {},
   "source": [
    "# Uppesittarkväll Simulator\n",
    "Ett litet snabbt projekt jag skrev under kvällen som beräknar den ungefärliga sannolikheten att få bingo på BingoLottos Uppesittarkväll.\n",
    "\n",
    "*Notera att antalet dragningar är för tillfället bara slumpat ur en diskret likformig sannolikhetsfördelning, och kan modelleras mycket mer exakt för en bättre uppskattning.*\n",
    "\n",
    "Nej, jag vann inte"
   ]
  },
  {
   "cell_type": "code",
   "execution_count": 8,
   "metadata": {},
   "outputs": [
    {
     "name": "stdout",
     "output_type": "stream",
     "text": [
      "Estimated Probability of Winning: 0.0572\n"
     ]
    }
   ],
   "source": [
    "import numpy as np\n",
    "n = 100000\n",
    "\n",
    "def simulate_lottery(num_simulations=n):\n",
    "    total_numbers = 75  \n",
    "    rows = 15          \n",
    "    numbers_per_row = 5\n",
    "    draw_options = np.arange(25,28)\n",
    "\n",
    "    win_count = 0\n",
    "\n",
    "    for _ in range(num_simulations):\n",
    "        # Randomly select the number of draws for this simulation\n",
    "        current_draws = np.random.choice(draw_options)\n",
    "\n",
    "        # Generate a random distribution of numbers across rows\n",
    "        all_numbers = np.random.permutation(total_numbers) + 1\n",
    "        row_distribution = all_numbers.reshape(rows, numbers_per_row)\n",
    "\n",
    "        # Randomly select current_draws of winning numbers\n",
    "        win_numbers = np.random.choice(range(1, total_numbers + 1), current_draws, replace=False)\n",
    "\n",
    "        # Check if any row contains all winning numbers\n",
    "        if any(np.isin(row, win_numbers).all() for row in row_distribution):\n",
    "            win_count += 1\n",
    "\n",
    "    return win_count / num_simulations\n",
    "\n",
    "win_probability = simulate_lottery()\n",
    "print(f\"Estimated Probability of Winning: {win_probability:.4f}\")\n"
   ]
  },
  {
   "cell_type": "code",
   "execution_count": 3,
   "metadata": {},
   "outputs": [
    {
     "name": "stdout",
     "output_type": "stream",
     "text": [
      "Estimated probability of winning any of the 5 games: 0.2524\n"
     ]
    }
   ],
   "source": [
    "win_any_5_games = 1 - (1-win_probability)**5\n",
    "print(f\"Estimated probability of winning any of the 5 games: {win_any_5_games:.4f}\")"
   ]
  },
  {
   "cell_type": "code",
   "execution_count": 6,
   "metadata": {},
   "outputs": [],
   "source": [
    "def calc_conf_int(p, z, n):\n",
    "    \"\"\" Wilson score interval \"\"\"\n",
    "    # Since each simulation is a Bernoulli trial (a win or a loss), the number of wins follows a binomial distribution\n",
    "    denom = 1 + z**2/n\n",
    "    center = (p + (z**2/(2*n)))/denom\n",
    "    margin = z*(((p*(1 - p))/n + (z**2)/(4*(n**2)))**0.5) / denom\n",
    "    low_bound = center - margin\n",
    "    high_bound = center + margin\n",
    "\n",
    "    return low_bound, high_bound"
   ]
  },
  {
   "cell_type": "code",
   "execution_count": 7,
   "metadata": {},
   "outputs": [
    {
     "name": "stdout",
     "output_type": "stream",
     "text": [
      "Approximate 95% confidence interval: (0.0551, 0.0580)\n"
     ]
    }
   ],
   "source": [
    "p = win_probability\n",
    "z = 1.96\n",
    "low_bound, high_bound = calc_conf_int(p, z, n)\n",
    "print(f\"Approximate 95% confidence interval: ({low_bound:.4f}, {high_bound:.4f})\")"
   ]
  }
 ],
 "metadata": {
  "kernelspec": {
   "display_name": "base",
   "language": "python",
   "name": "python3"
  },
  "language_info": {
   "codemirror_mode": {
    "name": "ipython",
    "version": 3
   },
   "file_extension": ".py",
   "mimetype": "text/x-python",
   "name": "python",
   "nbconvert_exporter": "python",
   "pygments_lexer": "ipython3",
   "version": "3.9.16"
  }
 },
 "nbformat": 4,
 "nbformat_minor": 2
}
